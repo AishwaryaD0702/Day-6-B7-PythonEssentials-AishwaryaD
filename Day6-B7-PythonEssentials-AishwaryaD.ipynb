{
 "cells": [
  {
   "cell_type": "markdown",
   "metadata": {},
   "source": [
    "# Day 6 Assignments"
   ]
  },
  {
   "cell_type": "code",
   "execution_count": 2,
   "metadata": {},
   "outputs": [
    {
     "name": "stdout",
     "output_type": "stream",
     "text": [
      "---WELCOME TO BACK ACCOUNT PROGRAM---\n",
      "Account Holder Name is : Aish\n",
      "Initial Account Balance is : 0\n",
      "Enter amount to be Deposited : 1000\n",
      "Amount Deposited is : 1000.0\n",
      "Enter amount to be Withdrawn : 500\n",
      "You have Withdrew : 500.0\n",
      "Net Avaliable balance is :  500.0\n"
     ]
    }
   ],
   "source": [
    "#QUESTION-1\n",
    "#class for BANK ACCOUNT\n",
    "class BankAccount: \n",
    "\n",
    "    def __init__(self): \n",
    "\n",
    "        self.ownerName=\"Aish\"\n",
    "\n",
    "        self.Balance=0\n",
    "\n",
    "    def deposit(self): \n",
    "\n",
    "        Amount=float(input(\"Enter amount to be Deposited : \")) \n",
    "\n",
    "        self.Balance += Amount \n",
    "\n",
    "        print(\"Amount Deposited is :\",Amount) \n",
    "\n",
    "    def withdraw(self): \n",
    "\n",
    "        Amount = float(input(\"Enter amount to be Withdrawn : \")) \n",
    "\n",
    "        if self.Balance >= Amount: \n",
    "\n",
    "            self.Balance -= Amount \n",
    "\n",
    "            print(\"You have Withdrew :\", Amount) \n",
    "\n",
    "        else: \n",
    "\n",
    "            print(\"Insufficient balance in the account...\") \n",
    "\n",
    "print(\"---WELCOME TO BACK ACCOUNT PROGRAM---\")\n",
    "\n",
    "BA = BankAccount()\n",
    "\n",
    "print(\"Account Holder Name is :\",BA.ownerName)\n",
    "\n",
    "print(\"Initial Account Balance is :\",BA.Balance)\n",
    "\n",
    "BA.deposit();\n",
    "\n",
    "BA.withdraw();\n",
    "\n",
    "print(\"Net Avaliable balance is : \",BA.Balance)\n",
    "\n"
   ]
  },
  {
   "cell_type": "code",
   "execution_count": null,
   "metadata": {},
   "outputs": [],
   "source": []
  },
  {
   "cell_type": "code",
   "execution_count": null,
   "metadata": {},
   "outputs": [],
   "source": []
  },
  {
   "cell_type": "code",
   "execution_count": 4,
   "metadata": {},
   "outputs": [
    {
     "name": "stdout",
     "output_type": "stream",
     "text": [
      "\n",
      "Enter the radius of cone : 5\n",
      "\n",
      "Enter the height of cone : 6\n",
      "\n",
      "Volume Of Cone is : 157.07963267948963\n",
      "\n",
      "Surface Area Of Cone is : 172.7875959474386\n"
     ]
    }
   ],
   "source": [
    "#QUESTION-2\n",
    "#PROGRAM FOR CONE'S VOLUME AND SURFACE AREA\n",
    "\n",
    "import math\n",
    "\n",
    "pi = math.pi\n",
    "\n",
    "class cone:\n",
    "\n",
    "    def __init__(self,r,h): \n",
    "\n",
    "        self.r=r\n",
    "\n",
    "        self.h=h\n",
    "\n",
    "    def volume(self):\n",
    "\n",
    "        result = (1 / 3) * pi * self.r * self.r * self.h\n",
    "\n",
    "        print(\"\\nVolume Of Cone is :\",result)\n",
    "\n",
    "    def surfacearea(self):\n",
    "\n",
    "        result = pi * self.r * self.h + pi * self.r * self.r\n",
    "\n",
    "        print(\"\\nSurface Area Of Cone is :\",result)\n",
    "\n",
    "ra = float(input(\"\\nEnter the radius of cone : \"))\n",
    "\n",
    "he = float(input(\"\\nEnter the height of cone : \"))\n",
    "\n",
    "c = cone( ra, he)\n",
    "\n",
    "c.volume()\n",
    "\n",
    "c.surfacearea()"
   ]
  },
  {
   "cell_type": "code",
   "execution_count": null,
   "metadata": {},
   "outputs": [],
   "source": []
  },
  {
   "cell_type": "code",
   "execution_count": null,
   "metadata": {},
   "outputs": [],
   "source": []
  },
  {
   "cell_type": "code",
   "execution_count": null,
   "metadata": {},
   "outputs": [],
   "source": []
  },
  {
   "cell_type": "code",
   "execution_count": null,
   "metadata": {},
   "outputs": [],
   "source": []
  }
 ],
 "metadata": {
  "kernelspec": {
   "display_name": "Python 3",
   "language": "python",
   "name": "python3"
  },
  "language_info": {
   "codemirror_mode": {
    "name": "ipython",
    "version": 3
   },
   "file_extension": ".py",
   "mimetype": "text/x-python",
   "name": "python",
   "nbconvert_exporter": "python",
   "pygments_lexer": "ipython3",
   "version": "3.7.4"
  }
 },
 "nbformat": 4,
 "nbformat_minor": 2
}
